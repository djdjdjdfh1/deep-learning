{
 "cells": [
  {
   "cell_type": "code",
   "execution_count": 87,
   "id": "5715c413",
   "metadata": {},
   "outputs": [],
   "source": [
    "# 가우스 잡음 추가 함수\n",
    "import matplotlib.pyplot as plt\n",
    "import numpy as np\n",
    "import torch\n",
    "\n",
    "from torchvision.datasets.mnist import MNIST\n",
    "from torchvision.transforms import ToTensor\n",
    "\n",
    "# 가우스 노이즈\n",
    "# noisy_pixel = original_pixel + N(u=0, e=scale)  u = 평균, e = 스케일\n",
    "# 평균 = 0 : 픽셀을 전체적으로 밝히거나 어둡게 하지 않음\n",
    "# 표준편차 = scale -> 값이 클수록 노이즈가 강해짐\n",
    "# 0.8 -> 노이즈의 양 많고, 숫자 일부를 흐릿"
   ]
  },
  {
   "cell_type": "code",
   "execution_count": 88,
   "id": "f1283569",
   "metadata": {},
   "outputs": [],
   "source": [
    "def gaussian_noise(x, scale=0.8):\n",
    "    gaussian_data_x = x + np.random.normal(\n",
    "        loc = 0, scale = scale, size = x.shape\n",
    "    )\n",
    "    gaussian_data_x = np.clip(gaussian_data_x, 0, 1) # 이미지픽셀의 값을 0과 1사이로 정규화\n",
    "    gaussian_data_x = torch.tensor(gaussian_data_x, dtype=torch.float32)\n",
    "    return gaussian_data_x\n"
   ]
  },
  {
   "cell_type": "code",
   "execution_count": 89,
   "id": "4268bdef",
   "metadata": {},
   "outputs": [],
   "source": [
    "training_data = MNIST(root='./', train=True, download=True, transform=ToTensor())\n",
    "test_data = MNIST(root='./', train=False, download=True, transform=ToTensor())"
   ]
  },
  {
   "cell_type": "code",
   "execution_count": 90,
   "id": "45c63e22",
   "metadata": {},
   "outputs": [
    {
     "name": "stderr",
     "output_type": "stream",
     "text": [
      "C:\\Users\\playdata2\\AppData\\Local\\Temp\\ipykernel_4620\\1267212853.py:2: DeprecationWarning: __array_wrap__ must accept context and return_scalar arguments (positionally) in the future. (Deprecated NumPy 2.0)\n",
      "  gaussian_data_x = x + np.random.normal(\n",
      "C:\\Users\\playdata2\\AppData\\Local\\Temp\\ipykernel_4620\\1267212853.py:6: UserWarning: To copy construct from a tensor, it is recommended to use sourceTensor.clone().detach() or sourceTensor.clone().detach().requires_grad_(True), rather than torch.tensor(sourceTensor).\n",
      "  gaussian_data_x = torch.tensor(gaussian_data_x, dtype=torch.float32)\n"
     ]
    },
    {
     "data": {
      "text/plain": [
       "<matplotlib.image.AxesImage at 0x26d94af0e90>"
      ]
     },
     "execution_count": 90,
     "metadata": {},
     "output_type": "execute_result"
    },
    {
     "data": {
      "image/png": "[encoded data removed]",
      "text/plain": [
       "<Figure size 640x480 with 2 Axes>"
      ]
     },
     "metadata": {},
     "output_type": "display_data"
    }
   ],
   "source": [
    "img, label = next(iter(training_data))\n",
    "gaussian = gaussian_noise(img)\n",
    "img = img.permute(1,2,0)\n",
    "gaussian = gaussian.permute(1,2,0)\n",
    "\n",
    "plt.subplot(1,2,1)\n",
    "plt.imshow(img)\n",
    "plt.subplot(1,2,2)\n",
    "plt.imshow(gaussian)"
   ]
  },
  {
   "cell_type": "code",
   "execution_count": 91,
   "id": "eb65cef5",
   "metadata": {},
   "outputs": [],
   "source": [
    "# 학습용 데이터셋\n",
    "from torch.utils.data.dataset import Dataset\n",
    "class Denoise(Dataset):\n",
    "    def __init__(self):\n",
    "        self.mnist = MNIST(root='./', train=True, download=True, transform=ToTensor())\n",
    "        self.data = []\n",
    "        # 잡음\n",
    "        for data, label in self.mnist:\n",
    "            noisy = gaussian_noise(data)\n",
    "            self.data.append(noisy)\n",
    "    def __len__(self):\n",
    "        return len(self.data)\n",
    "    def __getitem__(self, index):\n",
    "        data = self.data[index]\n",
    "        label = self.mnist.data[index] / 255 # 원본이미지도 0 ~ 1 정규화\n",
    "        return data, label"
   ]
  },
  {
   "cell_type": "code",
   "execution_count": 92,
   "id": "b0f55ec7",
   "metadata": {},
   "outputs": [],
   "source": [
    "# 합성곱 기본 블럭\n",
    "from torch import nn\n",
    "# conv-relu-conv-relu\n",
    "class BasicBlock(nn.Module):\n",
    "    def __init__(self, in_channel, out_channel, hidden_channel):\n",
    "        super(BasicBlock, self).__init__()\n",
    "        self.model = nn.Sequential(\n",
    "            nn.Conv2d(in_channel, hidden_channel, kernel_size=3, padding=1),\n",
    "            nn.ReLU(),\n",
    "            nn.Conv2d(hidden_channel, out_channel, kernel_size=3, padding=1),\n",
    "            nn.ReLU()\n",
    "        )\n",
    "    def forward(self, x):\n",
    "        return self.model(x)"
   ]
  },
  {
   "cell_type": "code",
   "execution_count": 93,
   "id": "4fc53464",
   "metadata": {},
   "outputs": [
    {
     "data": {
      "text/plain": [
       "torch.Size([20, 28, 28])"
      ]
     },
     "execution_count": 93,
     "metadata": {},
     "output_type": "execute_result"
    }
   ],
   "source": [
    "sample_data = torch.randn(1, 28, 28)\n",
    "sample_model = BasicBlock(1, 20, 10)\n",
    "sample_model(sample_data).size()"
   ]
  },
  {
   "cell_type": "code",
   "execution_count": 94,
   "id": "0a89d24c",
   "metadata": {},
   "outputs": [],
   "source": [
    "class Encoder(nn.Module):\n",
    "    def __init__(self):\n",
    "        super(Encoder, self).__init__()\n",
    "        self.conv1 = BasicBlock(1,16,16)\n",
    "        self.conv2 = BasicBlock(16,8,8)\n",
    "        self.pool = nn.AvgPool2d(2)\n",
    "    def forward(self, x):\n",
    "        x = self.pool(self.conv1(x)) # 1,16,14,14 \n",
    "        out = self.pool(self.conv2(x)) # 1,8,7,7\n",
    "        return out"
   ]
  },
  {
   "cell_type": "code",
   "execution_count": 95,
   "id": "8e8fb5c7",
   "metadata": {},
   "outputs": [],
   "source": [
    "sample_data = torch.randn(1,1,28,28)\n",
    "temp_encoder = Encoder()\n",
    "result_encoder = temp_encoder(sample_data)"
   ]
  },
  {
   "cell_type": "code",
   "execution_count": 96,
   "id": "31ed3eca",
   "metadata": {},
   "outputs": [],
   "source": [
    "class Decoder(nn.Module):\n",
    "    def __init__(self):\n",
    "        super(Decoder, self).__init__()\n",
    "        self.conv1 = BasicBlock(8,8,8)\n",
    "        self.conv2 = BasicBlock(8,16,16)\n",
    "        # 출력층\n",
    "        self.conv3 = nn.Conv2d(16, 1, kernel_size=3, padding=1)\n",
    "\n",
    "        # 업샘플링 층\n",
    "        self.upsampling1 = nn.ConvTranspose2d(8,8, kernel_size=2, stride=2)\n",
    "        self.upsampling2 = nn.ConvTranspose2d(16,16, kernel_size=2, stride=2)\n",
    "    def forward(self, x):\n",
    "        x = self.upsampling1(self.conv1(x))\n",
    "        x = self.upsampling2(self.conv2(x))\n",
    "        out = self.conv3(x)\n",
    "        return out"
   ]
  },
  {
   "cell_type": "code",
   "execution_count": 97,
   "id": "5d86cc24",
   "metadata": {},
   "outputs": [
    {
     "data": {
      "text/plain": [
       "torch.Size([1, 1, 28, 28])"
      ]
     },
     "execution_count": 97,
     "metadata": {},
     "output_type": "execute_result"
    }
   ],
   "source": [
    "d = Decoder()\n",
    "d(result_encoder).size()"
   ]
  },
  {
   "cell_type": "code",
   "execution_count": 98,
   "id": "c6615db9",
   "metadata": {},
   "outputs": [],
   "source": [
    "# CAE 오토인코더\n",
    "# 인코더와 디코더를 연결 : 인코더의 출력을 디코더의 입력으로 제공\n",
    "class CAE(nn.Module):\n",
    "    def __init__(self):\n",
    "        super(CAE, self).__init__()\n",
    "        self.enc = Encoder()\n",
    "        self.dec = Decoder()\n",
    "    def forward(self, x):\n",
    "        x = self.enc(x)\n",
    "        x = self.dec(x)\n",
    "        return x"
   ]
  },
  {
   "cell_type": "code",
   "execution_count": 99,
   "id": "0f671e86",
   "metadata": {},
   "outputs": [
    {
     "name": "stderr",
     "output_type": "stream",
     "text": [
      "C:\\Users\\playdata2\\AppData\\Local\\Temp\\ipykernel_4620\\1267212853.py:2: DeprecationWarning: __array_wrap__ must accept context and return_scalar arguments (positionally) in the future. (Deprecated NumPy 2.0)\n",
      "  gaussian_data_x = x + np.random.normal(\n",
      "C:\\Users\\playdata2\\AppData\\Local\\Temp\\ipykernel_4620\\1267212853.py:6: UserWarning: To copy construct from a tensor, it is recommended to use sourceTensor.clone().detach() or sourceTensor.clone().detach().requires_grad_(True), rather than torch.tensor(sourceTensor).\n",
      "  gaussian_data_x = torch.tensor(gaussian_data_x, dtype=torch.float32)\n"
     ]
    }
   ],
   "source": [
    "from tqdm import tqdm\n",
    "from torch.utils.data.dataloader import DataLoader\n",
    "from torch.optim.adam import Adam\n",
    "device = 'cuda' if torch.cuda.is_available() else 'cpu'\n",
    "train_dataset = Denoise()\n",
    "train_loader = DataLoader(train_dataset, batch_size=32)\n",
    "model = CAE().to(device)\n",
    "optim = Adam(model.parameters(), lr=1e-3)"
   ]
  },
  {
   "cell_type": "code",
   "execution_count": 100,
   "id": "8f3f5a7e",
   "metadata": {},
   "outputs": [
    {
     "data": {
      "text/plain": [
       "torch.Size([32, 1, 28, 28])"
      ]
     },
     "execution_count": 100,
     "metadata": {},
     "output_type": "execute_result"
    }
   ],
   "source": [
    "data, label = next(iter(train_loader))\n",
    "data.size()"
   ]
  },
  {
   "cell_type": "code",
   "execution_count": 103,
   "id": "eef303ca",
   "metadata": {},
   "outputs": [
    {
     "name": "stderr",
     "output_type": "stream",
     "text": [
      "  0%|          | 0/1875 [00:00<?, ?it/s]c:\\Users\\playdata2\\miniconda3\\envs\\deep\\Lib\\site-packages\\torch\\nn\\modules\\loss.py:608: UserWarning: Using a target size (torch.Size([32, 28, 28])) that is different to the input size (torch.Size([32, 1, 28, 28])). This will likely lead to incorrect results due to broadcasting. Please ensure they have the same size.\n",
      "  return F.mse_loss(input, target, reduction=self.reduction)\n",
      "100%|██████████| 1875/1875 [01:16<00:00, 24.58it/s, loss=0.0924]\n"
     ]
    }
   ],
   "source": [
    "criterian = nn.MSELoss()\n",
    "for epoch in range(2):\n",
    "    loop = tqdm(train_loader)\n",
    "    for data, label in loop:\n",
    "        optim.zero_grad()\n",
    "        data, label = data.to(device), label.to(device)\n",
    "        pred = model(data)\n",
    "        loss = criterian(pred, label)\n",
    "        loss.backward()\n",
    "        loop.set_postfix({'loss' : f'{loss.item():.4f}'})\n",
    "torch.save(model.state_dict(), 'CAE.pth')"
   ]
  }
 ],
 "metadata": {
  "kernelspec": {
   "display_name": "deep",
   "language": "python",
   "name": "python3"
  },
  "language_info": {
   "codemirror_mode": {
    "name": "ipython",
    "version": 3
   },
   "file_extension": ".py",
   "mimetype": "text/x-python",
   "name": "python",
   "nbconvert_exporter": "python",
   "pygments_lexer": "ipython3",
   "version": "3.11.13"
  }
 },
 "nbformat": 4,
 "nbformat_minor": 5
}

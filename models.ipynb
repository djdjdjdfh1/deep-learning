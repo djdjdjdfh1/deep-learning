{
 "cells": [
  {
   "cell_type": "code",
   "execution_count": null,
   "id": "1a67ca41",
   "metadata": {},
   "outputs": [],
   "source": [
    "from torchvision import models"
   ]
  },
  {
   "cell_type": "code",
   "execution_count": null,
   "id": "901a3070",
   "metadata": {},
   "outputs": [],
   "source": [
    "alexnet = models.AlexNet()\n",
    "print(alexnet)"
   ]
  },
  {
   "cell_type": "code",
   "execution_count": null,
   "id": "32247afd",
   "metadata": {},
   "outputs": [],
   "source": [
    "# 활성화 함수\n",
    "# Relu"
   ]
  },
  {
   "cell_type": "code",
   "execution_count": null,
   "id": "3980b036",
   "metadata": {},
   "outputs": [],
   "source": [
    "# ResNet-101\n",
    "# 스킵커넥션(Skip Connection, Residual Block)\n",
    "# W.x 학습대신에 f(x) 잔차(residual)(입력 x와의 차이)만 학습\n",
    "# 초기 x의 값이 지름길을 통해 뒤쪽 레이어까지 직접 전달, 층이 깊을수록 기울기가 소실되는 문제를 해결\n",
    "# 100층을 넘어가면 기울기가 소실되거나 폭발하는 현상 필연적\n",
    "# H(x) = F(x) + x\n",
    "resnet = models.resnet101(pretrained=False)\n",
    "resnet"
   ]
  },
  {
   "cell_type": "code",
   "execution_count": null,
   "id": "40436430",
   "metadata": {},
   "outputs": [],
   "source": [
    "from PIL import Image\n",
    "img = Image.open('')"
   ]
  },
  {
   "cell_type": "code",
   "execution_count": null,
   "id": "e24c8ede",
   "metadata": {},
   "outputs": [],
   "source": [
    "# alexnet.eval() 모델을 평가할때 평가모드로 전환\n",
    "# 모델내의 배치 정규화 층, 드랍아웃층이 평가모드로 작동\n",
    "# 배치정규화 : 학습에는 현재 배치의 평균과 분산사용 평가모드가 되면 학습과정 전체에서 누적된 평균/분산\n",
    "# 드랍아웃 : 학습시에는 랜덤하게 뉴런은 끄지만, 평가모드로 전환되면 모든 뉴런을 가짐\n",
    "# alexnet(x_test)  예측"
   ]
  }
 ],
 "metadata": {
  "kernelspec": {
   "display_name": "deep",
   "language": "python",
   "name": "python3"
  },
  "language_info": {
   "codemirror_mode": {
    "name": "ipython",
    "version": 3
   },
   "file_extension": ".py",
   "mimetype": "text/x-python",
   "name": "python",
   "nbconvert_exporter": "python",
   "pygments_lexer": "ipython3",
   "version": "3.11.13"
  }
 },
 "nbformat": 4,
 "nbformat_minor": 5
}

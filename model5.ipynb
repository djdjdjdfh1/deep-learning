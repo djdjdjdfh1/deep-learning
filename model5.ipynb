{
 "cells": [
  {
   "cell_type": "code",
   "execution_count": null,
   "id": "d5a2e828",
   "metadata": {},
   "outputs": [],
   "source": [
    "# 데이터 전처리, 데이터 증강\n",
    "import matplotlib.pyplot as plt\n"
   ]
  }
 ],
 "metadata": {
  "language_info": {
   "name": "python"
  }
 },
 "nbformat": 4,
 "nbformat_minor": 5
}

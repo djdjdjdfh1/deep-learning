{
 "cells": [
  {
   "cell_type": "code",
   "execution_count": 87,
   "id": "5b95705e",
   "metadata": {},
   "outputs": [],
   "source": [
    "# Tensor\n",
    "# 데이터를 저장하는 다차원 배열 또는 컨테이너\n",
    "# 딥러닝이 학습할때 사용하는 자료구조\n",
    "# 0차원 텐서 : 스칼라 - 단일 데이터\n",
    "# 1차원 텐서(벡터) : 리스트 형태 [1,2,3,4]\n",
    "# 2차원 텐서(행렬) : 행과 열로 이루어진 데이터 표데이터, 흑백 이미지(가로픽셀 * 세로픽셀)\n",
    "# 3차원 텐서 : 컬러 이미지 흑백이미지 + 채널정보(R G B)\n",
    "# 고차원 텐서 : 동영상 : 이미지개수 * 가로픽셀 * 세로픽셀 * 채널정보\n",
    "\n",
    "# 데이터의 표준 형식 : 일관된 숫자 형식\n",
    "# 효율적인 계산 : GPU 지원 병렬연산에 유리\n",
    "# 딥러닝 프레임워크 : 텐서플로, 파이토치"
   ]
  },
  {
   "cell_type": "code",
   "execution_count": 88,
   "id": "b3aa05ea",
   "metadata": {},
   "outputs": [],
   "source": [
    "# %pip install torch torchvision"
   ]
  },
  {
   "cell_type": "code",
   "execution_count": 89,
   "id": "b68509c3",
   "metadata": {},
   "outputs": [
    {
     "data": {
      "text/plain": [
       "tensor([[0.5467, 1.6155, 1.5689, 0.3604],\n",
       "        [0.6585, 0.9415, 1.6128, 1.0934],\n",
       "        [1.0343, 0.4105, 0.9633, 1.2134]])"
      ]
     },
     "execution_count": 89,
     "metadata": {},
     "output_type": "execute_result"
    }
   ],
   "source": [
    "# 기본연산\n",
    "import torch\n",
    "# 빈 텐서 생성\n",
    "x = torch.empty(3,4)\n",
    "x"
   ]
  },
  {
   "cell_type": "code",
   "execution_count": 90,
   "id": "6fc2591b",
   "metadata": {},
   "outputs": [
    {
     "data": {
      "text/plain": [
       "tensor([[0.4320, 0.8433, 0.5037, 0.9727],\n",
       "        [0.6048, 0.7251, 0.0330, 0.8630],\n",
       "        [0.7857, 0.7978, 0.9194, 0.1344]])"
      ]
     },
     "execution_count": 90,
     "metadata": {},
     "output_type": "execute_result"
    }
   ],
   "source": [
    "# 랜덤 텐서\n",
    "x = torch.rand(3,4)\n",
    "x"
   ]
  },
  {
   "cell_type": "code",
   "execution_count": 91,
   "id": "e3ee17ac",
   "metadata": {},
   "outputs": [
    {
     "data": {
      "text/plain": [
       "tensor([[0, 0, 0, 0],\n",
       "        [0, 0, 0, 0],\n",
       "        [0, 0, 0, 0]])"
      ]
     },
     "execution_count": 91,
     "metadata": {},
     "output_type": "execute_result"
    }
   ],
   "source": [
    "# 0으로 텐서 초기화\n",
    "torch.zeros(3,4,dtype=torch.long)"
   ]
  },
  {
   "cell_type": "code",
   "execution_count": 92,
   "id": "93cf2b09",
   "metadata": {},
   "outputs": [
    {
     "data": {
      "text/plain": [
       "tensor([[1, 1, 1, 1],\n",
       "        [1, 1, 1, 1],\n",
       "        [1, 1, 1, 1]])"
      ]
     },
     "execution_count": 92,
     "metadata": {},
     "output_type": "execute_result"
    }
   ],
   "source": [
    "# 1로 채워진 텐서\n",
    "x = torch.ones(3,4, dtype=torch.long)\n",
    "x"
   ]
  },
  {
   "cell_type": "code",
   "execution_count": 93,
   "id": "f3ad6aa4",
   "metadata": {},
   "outputs": [
    {
     "name": "stdout",
     "output_type": "stream",
     "text": [
      "tensor([3.5000, 3.0000, 2.1000])\n",
      "[3.5 3.  2.1]\n"
     ]
    }
   ],
   "source": [
    "import numpy as np\n",
    "print( torch.tensor( [3.5,3,2.1] ) )\n",
    "print( np.array( [3.5,3,2.1] )  )"
   ]
  },
  {
   "cell_type": "code",
   "execution_count": 94,
   "id": "e8c83689",
   "metadata": {},
   "outputs": [
    {
     "data": {
      "text/plain": [
       "(tensor([[1., 1., 1., 1.],\n",
       "         [1., 1., 1., 1.],\n",
       "         [1., 1., 1., 1.]]),\n",
       " tensor([[ 0.6410, -0.2444, -0.0215,  2.0130],\n",
       "         [-0.3597, -0.8308, -1.3207, -0.6646],\n",
       "         [-0.1310, -0.4459,  0.2628, -1.8682]]))"
      ]
     },
     "execution_count": 94,
     "metadata": {},
     "output_type": "execute_result"
    }
   ],
   "source": [
    "# 기존의 텐서를 기반으로 새로운 텐서 생성\n",
    "x = torch.ones(3,4)\n",
    "y = torch.randn_like(x, dtype= torch.float)\n",
    "x,  y"
   ]
  },
  {
   "cell_type": "code",
   "execution_count": 95,
   "id": "a164fc79",
   "metadata": {},
   "outputs": [
    {
     "data": {
      "text/plain": [
       "(tensor([[0.4731, 0.1955, 0.3305, 0.6991],\n",
       "         [0.8344, 0.2819, 0.1961, 0.7160],\n",
       "         [0.8188, 0.5689, 0.9699, 0.8560]]),\n",
       " tensor([[0.4749, 0.9788, 0.9923, 0.4208],\n",
       "         [0.4247, 0.8628, 0.2520, 0.5531],\n",
       "         [0.8759, 0.1953, 0.3265, 0.2169]]),\n",
       " tensor([[0.9480, 1.1743, 1.3228, 1.1199],\n",
       "         [1.2591, 1.1447, 0.4481, 1.2691],\n",
       "         [1.6948, 0.7642, 1.2964, 1.0730]]))"
      ]
     },
     "execution_count": 95,
     "metadata": {},
     "output_type": "execute_result"
    }
   ],
   "source": [
    "import torch\n",
    "x = torch.rand(3,4)\n",
    "y = torch.rand(3,4)\n",
    "x ,  y, x+y"
   ]
  },
  {
   "cell_type": "code",
   "execution_count": 96,
   "id": "b07e47bb",
   "metadata": {},
   "outputs": [
    {
     "data": {
      "text/plain": [
       "tensor([[0.9480, 1.1743, 1.3228, 1.1199],\n",
       "        [1.2591, 1.1447, 0.4481, 1.2691],\n",
       "        [1.6948, 0.7642, 1.2964, 1.0730]])"
      ]
     },
     "execution_count": 96,
     "metadata": {},
     "output_type": "execute_result"
    }
   ],
   "source": [
    "torch.add(x,y)"
   ]
  },
  {
   "cell_type": "code",
   "execution_count": 97,
   "id": "7d014d10",
   "metadata": {},
   "outputs": [
    {
     "data": {
      "text/plain": [
       "tensor([[0.9480, 1.1743, 1.3228, 1.1199],\n",
       "        [1.2591, 1.1447, 0.4481, 1.2691],\n",
       "        [1.6948, 0.7642, 1.2964, 1.0730]])"
      ]
     },
     "execution_count": 97,
     "metadata": {},
     "output_type": "execute_result"
    }
   ],
   "source": [
    "#in-place   y = y + x   y += x\n",
    "y.add_(x)"
   ]
  },
  {
   "cell_type": "code",
   "execution_count": 98,
   "id": "79ee2d69",
   "metadata": {},
   "outputs": [
    {
     "data": {
      "text/plain": [
       "tensor([[0.9480, 1.1743, 1.3228, 1.1199],\n",
       "        [1.2591, 1.1447, 0.4481, 1.2691],\n",
       "        [1.6948, 0.7642, 1.2964, 1.0730]])"
      ]
     },
     "execution_count": 98,
     "metadata": {},
     "output_type": "execute_result"
    }
   ],
   "source": [
    "y"
   ]
  },
  {
   "cell_type": "code",
   "execution_count": 99,
   "id": "d1a4eb96",
   "metadata": {},
   "outputs": [
    {
     "data": {
      "text/plain": [
       "(tensor([[0.8830, 0.6789, 0.2227, 0.3339],\n",
       "         [0.7280, 0.0089, 0.5989, 0.8301],\n",
       "         [0.3991, 0.2501, 0.4952, 0.5353]]),\n",
       " tensor([[0.1350, 0.2766, 0.8705, 0.3887, 0.2504],\n",
       "         [0.4335, 0.6573, 0.2348, 0.2376, 0.7417],\n",
       "         [0.5468, 0.0991, 0.1792, 0.5472, 0.2221],\n",
       "         [0.6468, 0.4583, 0.7412, 0.7605, 0.7203]]),\n",
       " tensor([[0.7513, 0.8656, 1.2156, 0.8804, 1.0147],\n",
       "         [0.9666, 0.6470, 1.3584, 1.2441, 0.9199],\n",
       "         [0.7793, 0.5692, 0.8917, 0.8926, 0.7810]]),\n",
       " tensor([[0.7513, 0.8656, 1.2156, 0.8804, 1.0147],\n",
       "         [0.9666, 0.6470, 1.3584, 1.2441, 0.9199],\n",
       "         [0.7793, 0.5692, 0.8917, 0.8926, 0.7810]]))"
      ]
     },
     "execution_count": 99,
     "metadata": {},
     "output_type": "execute_result"
    }
   ],
   "source": [
    "# 행렬 곱셈 \n",
    "x = torch.rand(3,4)\n",
    "y = torch.rand(4,5)\n",
    "x, y, torch.mm(x,y),x@y # 파이썬 3.5  x@y"
   ]
  },
  {
   "cell_type": "code",
   "execution_count": 100,
   "id": "9db8e368",
   "metadata": {},
   "outputs": [
    {
     "data": {
      "text/plain": [
       "(tensor(0.1971), 0.1970820426940918, torch.Tensor, float)"
      ]
     },
     "execution_count": 100,
     "metadata": {},
     "output_type": "execute_result"
    }
   ],
   "source": [
    "# 슬라이싱 가능\n",
    "x = torch.rand(4,5)\n",
    "x[1,1], x[1,1].item(), type(x[1,1]), type(x[1,1].item() )"
   ]
  },
  {
   "cell_type": "code",
   "execution_count": 101,
   "id": "3d9115a0",
   "metadata": {},
   "outputs": [
    {
     "data": {
      "text/plain": [
       "(tensor([[0.7266, 0.9107, 0.9443, 0.8031],\n",
       "         [0.3916, 0.8580, 0.3068, 0.2161],\n",
       "         [0.5493, 0.4008, 0.3663, 0.2296],\n",
       "         [0.9811, 0.3051, 0.9835, 0.1724]]),\n",
       " tensor([0.7266, 0.9107, 0.9443, 0.8031, 0.3916, 0.8580, 0.3068, 0.2161, 0.5493,\n",
       "         0.4008, 0.3663, 0.2296, 0.9811, 0.3051, 0.9835, 0.1724]),\n",
       " torch.Size([4, 4]),\n",
       " torch.Size([16]))"
      ]
     },
     "execution_count": 101,
     "metadata": {},
     "output_type": "execute_result"
    }
   ],
   "source": [
    "# 텐서 크기 변경 reshapem view   numpy 동일한 기능 reshape\n",
    "x = torch.rand(4,4)\n",
    "y = x.view(-1) # -1 자동계산\n",
    "x, y, x.shape, y.shape"
   ]
  },
  {
   "cell_type": "code",
   "execution_count": 102,
   "id": "f19ee304",
   "metadata": {},
   "outputs": [
    {
     "data": {
      "text/plain": [
       "(tensor([[0.7266, 0.9107, 0.9443, 0.8031, 0.3916, 0.8580, 0.3068, 0.2161],\n",
       "         [0.5493, 0.4008, 0.3663, 0.2296, 0.9811, 0.3051, 0.9835, 0.1724]]),\n",
       " torch.Size([4, 4]))"
      ]
     },
     "execution_count": 102,
     "metadata": {},
     "output_type": "execute_result"
    }
   ],
   "source": [
    "# x  4 by 4\n",
    "# view : reshape # 텐서 모양 변경\n",
    "# size : shape # 텐서 모양 확인\n",
    "# 가독성  view size 사용되었다는 것은 해당 자료구조가 텐서라는 것을 명시\n",
    "x.view(-1, 8), x.size()"
   ]
  },
  {
   "cell_type": "code",
   "execution_count": 103,
   "id": "cc369c20",
   "metadata": {},
   "outputs": [
    {
     "data": {
      "text/plain": [
       "array([1., 1., 1., 1., 1.], dtype=float32)"
      ]
     },
     "execution_count": 103,
     "metadata": {},
     "output_type": "execute_result"
    }
   ],
   "source": [
    "# 텐서 -> 넘파이\n",
    "import torch\n",
    "import numpy as np\n",
    "a = torch.ones(5)\n",
    "a.numpy()"
   ]
  },
  {
   "cell_type": "code",
   "execution_count": 104,
   "id": "d1b30421",
   "metadata": {},
   "outputs": [
    {
     "data": {
      "text/plain": [
       "tensor([1, 2, 3, 4, 5])"
      ]
     },
     "execution_count": 104,
     "metadata": {},
     "output_type": "execute_result"
    }
   ],
   "source": [
    "# 넘파이 -> 텐서\n",
    "a = np.array([1,2,3,4,5])\n",
    "b = torch.from_numpy(a)\n",
    "b"
   ]
  },
  {
   "cell_type": "code",
   "execution_count": 105,
   "id": "0d16860f",
   "metadata": {},
   "outputs": [
    {
     "name": "stdout",
     "output_type": "stream",
     "text": [
      "CUDA를 사용할 수 없습니다.\n"
     ]
    }
   ],
   "source": [
    "# GPU 사용\n",
    "import torch\n",
    "if torch.cuda.is_available():\n",
    "    device = torch.device('cuda') # gpu\n",
    "    # 텐서들은 gpu에서 연산되기 떄문에 생성을 gpu에서 생성\n",
    "    x = torch.ones(5, device=device) # gpu\n",
    "    y = torch.ones(5) # cpu\n",
    "    y = y.to(device) # cpu->gpu로 이동\n",
    "    z = x + y # gpu, cpu에 있으면 연산이 안됨\n",
    "    print(f'GPU 연산결과 : {z}')\n",
    "    print(f'다시 CPU로 : {z.to(\"cpu\", torch.double) }')\n",
    "else:\n",
    "    print('CUDA를 사용할 수 없습니다.')"
   ]
  },
  {
   "cell_type": "code",
   "execution_count": 106,
   "id": "8c9c7450",
   "metadata": {},
   "outputs": [],
   "source": [
    "# 행렬의 곱\n",
    "# ( x,y ) * ( x1,y1 )\n",
    "# y, x1의 차수는 같아야한다\n",
    "# 행렬 곱의 결과는 x , y1\n",
    "\n",
    "# 텐서는 딥러닝을 위해 만든 자료구조, 내부에 gpu 연산에 특화된 구조, 일반적인 모양은 넘파이와 동일\n",
    "# 텐서는 gpu연산을 지원"
   ]
  },
  {
   "cell_type": "code",
   "execution_count": 107,
   "id": "f3cd73ef",
   "metadata": {},
   "outputs": [],
   "source": [
    "# 자동 미분(Autograd) 매 계산과정마다 해당 계산과정의 미분값을 저장\n",
    "# 파이토치 requires_grad = True 로 설정하면 계산그래프라는 형태로 기록 - 동영상 녹화와 비슷한 원리\n",
    "# .backword() 호출하면 이 과정을 거꾸로 되감으면서 각 단계의 미분값을 계산해서 최종 기울기를 얻는다"
   ]
  },
  {
   "cell_type": "code",
   "execution_count": 108,
   "id": "c080d93d",
   "metadata": {},
   "outputs": [
    {
     "data": {
      "text/plain": [
       "(tensor([[1., 1.],\n",
       "         [1., 1.]], requires_grad=True),\n",
       " torch.Size([2, 2]))"
      ]
     },
     "execution_count": 108,
     "metadata": {},
     "output_type": "execute_result"
    }
   ],
   "source": [
    "x = torch.ones(2,2, requires_grad=True)\n",
    "x, x.size()"
   ]
  },
  {
   "cell_type": "code",
   "execution_count": 109,
   "id": "35dbeaf0",
   "metadata": {},
   "outputs": [
    {
     "name": "stdout",
     "output_type": "stream",
     "text": [
      "tensor([[3., 3.],\n",
      "        [3., 3.]], grad_fn=<AddBackward0>) <AddBackward0 object at 0x000002019814ABC0>\n"
     ]
    },
    {
     "data": {
      "text/plain": [
       "(tensor([[27., 27.],\n",
       "         [27., 27.]], grad_fn=<MulBackward0>),\n",
       " tensor(27., grad_fn=<MeanBackward0>))"
      ]
     },
     "execution_count": 109,
     "metadata": {},
     "output_type": "execute_result"
    }
   ],
   "source": [
    "y = x + 2  # y도 계산 그래프에 추가\n",
    "print(y, y.grad_fn)\n",
    "z = y*y*3\n",
    "out = z.mean()\n",
    "z, out"
   ]
  },
  {
   "cell_type": "code",
   "execution_count": 111,
   "id": "bb35853a",
   "metadata": {},
   "outputs": [
    {
     "data": {
      "text/plain": [
       "tensor([[4.5000, 4.5000],\n",
       "        [4.5000, 4.5000]])"
      ]
     },
     "execution_count": 111,
     "metadata": {},
     "output_type": "execute_result"
    }
   ],
   "source": [
    "# 기울기 구하는 과정을 역전파 --> 기울기 계산\n",
    "# 최종결과가 out에서부터 시작해서 계산그래프를 거꾸로 거슬러 올라가면서 미분의 연쇄법칙을 사용해서 미분값을 계산\n",
    "# out을 x에 대해서 미분\n",
    "out.backward()\n",
    "x.grad"
   ]
  },
  {
   "cell_type": "code",
   "execution_count": null,
   "id": "959308a6",
   "metadata": {},
   "outputs": [],
   "source": [
    "# out = 1/4(z1+z2+z3+z4)\n",
    "# z = 3y^2\n",
    "# y = x + 2\n",
    "\n",
    "# d-out/dxi = "
   ]
  }
 ],
 "metadata": {
  "kernelspec": {
   "display_name": "deep",
   "language": "python",
   "name": "python3"
  },
  "language_info": {
   "codemirror_mode": {
    "name": "ipython",
    "version": 3
   },
   "file_extension": ".py",
   "mimetype": "text/x-python",
   "name": "python",
   "nbconvert_exporter": "python",
   "pygments_lexer": "ipython3",
   "version": "3.11.13"
  }
 },
 "nbformat": 4,
 "nbformat_minor": 5
}
